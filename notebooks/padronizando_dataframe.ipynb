{
 "cells": [
  {
   "cell_type": "markdown",
   "metadata": {},
   "source": [
    "# Padronizando o DataFrame\n",
    "\n",
    "Devido a alguns erros existentes no dataframe, esse notebook padroniza o mesmo e disponibiliza o dado na pasta data."
   ]
  },
  {
   "cell_type": "code",
   "execution_count": 5,
   "metadata": {},
   "outputs": [],
   "source": [
    "import pandas as pd\n",
    "import numpy as np\n",
    "import os, sys\n",
    "from datetime import datetime\n",
    "\n",
    "sys.path.insert(0, os.path.abspath(\"..\"))\n",
    "from src import utils as ult\n",
    "from dotenv import load_dotenv ; load_dotenv()\n",
    "\n",
    "# Desligando warnings\n",
    "import warnings\n",
    "warnings.filterwarnings(\"ignore\")"
   ]
  },
  {
   "cell_type": "code",
   "execution_count": 6,
   "metadata": {},
   "outputs": [],
   "source": [
    "# Coleta o path_start, basicamente o local da pasta onde estão os dados.\n",
    "path_start = os.getenv(\"PATH_START\")\n",
    "df = ult.load_data(path=f\"{path_start}data\\\\dados_stone.xlsx\")"
   ]
  },
  {
   "cell_type": "markdown",
   "metadata": {},
   "source": [
    "### Arrumando a replicação incorreta dos dados nas últimas 124 linhas"
   ]
  },
  {
   "cell_type": "code",
   "execution_count": 7,
   "metadata": {},
   "outputs": [],
   "source": [
    "df_fixing = df.query(\"CBK != CBK\")\n",
    "df_fixing['Dia_test'] = list(\n",
    "    map(\n",
    "        lambda dia: dia.replace(hour=0, minute=0, second=0, microsecond=0)\n",
    "        ,df_fixing['Dia']\n",
    "    )\n",
    ")\n",
    "\n",
    "df_fixing['Hora_test'] = list(\n",
    "    map(\n",
    "        lambda dia: dia.time()\n",
    "        ,df_fixing['Dia']\n",
    "    )\n",
    ")\n",
    "\n",
    "df_fixing['Valor_test'] = df_fixing['Hora']\n",
    "df_fixing['Cartão_test'] = df_fixing['Valor']\n",
    "df_fixing['CBK_test'] = df_fixing['Cartão']"
   ]
  },
  {
   "cell_type": "code",
   "execution_count": 9,
   "metadata": {},
   "outputs": [],
   "source": [
    "# Padronizando os nomes das colunas, selecionando apenas as _test\n",
    "df_fixing = df_fixing.filter(\n",
    "    [col for col in df_fixing.columns.to_list() if col.endswith('_test')]\n",
    ")\n",
    "\n",
    "# Retirando o _test das colunas\n",
    "df_fixing.columns = [col[:-5] for col in df_fixing.columns.to_list()]\n",
    "\n",
    "# Realizando o Join final\n",
    "df_final = pd.concat([df.iloc[:df_fixing.index.min()], df_fixing], axis=0)"
   ]
  },
  {
   "cell_type": "markdown",
   "metadata": {},
   "source": [
    "### Escrevendo os dados"
   ]
  },
  {
   "cell_type": "code",
   "execution_count": 13,
   "metadata": {},
   "outputs": [],
   "source": [
    "df_final.to_csv(f\"{path_start}data\\\\silver_dados_stone.csv\")"
   ]
  }
 ],
 "metadata": {
  "kernelspec": {
   "display_name": "base",
   "language": "python",
   "name": "python3"
  },
  "language_info": {
   "codemirror_mode": {
    "name": "ipython",
    "version": 3
   },
   "file_extension": ".py",
   "mimetype": "text/x-python",
   "name": "python",
   "nbconvert_exporter": "python",
   "pygments_lexer": "ipython3",
   "version": "3.9.7"
  }
 },
 "nbformat": 4,
 "nbformat_minor": 2
}
